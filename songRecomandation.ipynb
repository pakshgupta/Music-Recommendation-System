{
 "cells": [
  {
   "cell_type": "code",
   "execution_count": 1,
   "id": "cc0c4893",
   "metadata": {},
   "outputs": [],
   "source": [
    "import numpy as np\n",
    "import pandas as pd"
   ]
  },
  {
   "cell_type": "code",
   "execution_count": 44,
   "id": "3eb9bfee",
   "metadata": {},
   "outputs": [
    {
     "data": {
      "text/html": [
       "<div>\n",
       "<style scoped>\n",
       "    .dataframe tbody tr th:only-of-type {\n",
       "        vertical-align: middle;\n",
       "    }\n",
       "\n",
       "    .dataframe tbody tr th {\n",
       "        vertical-align: top;\n",
       "    }\n",
       "\n",
       "    .dataframe thead th {\n",
       "        text-align: right;\n",
       "    }\n",
       "</style>\n",
       "<table border=\"1\" class=\"dataframe\">\n",
       "  <thead>\n",
       "    <tr style=\"text-align: right;\">\n",
       "      <th></th>\n",
       "      <th>artist</th>\n",
       "      <th>song</th>\n",
       "      <th>link</th>\n",
       "      <th>text</th>\n",
       "    </tr>\n",
       "  </thead>\n",
       "  <tbody>\n",
       "    <tr>\n",
       "      <th>0</th>\n",
       "      <td>ABBA</td>\n",
       "      <td>Ahe's My Kind Of Girl</td>\n",
       "      <td>/a/abba/ahes+my+kind+of+girl_20598417.html</td>\n",
       "      <td>Look at her face, it's a wonderful face  \\nAnd...</td>\n",
       "    </tr>\n",
       "    <tr>\n",
       "      <th>1</th>\n",
       "      <td>ABBA</td>\n",
       "      <td>Andante, Andante</td>\n",
       "      <td>/a/abba/andante+andante_20002708.html</td>\n",
       "      <td>Take it easy with me, please  \\nTouch me gentl...</td>\n",
       "    </tr>\n",
       "    <tr>\n",
       "      <th>2</th>\n",
       "      <td>ABBA</td>\n",
       "      <td>As Good As New</td>\n",
       "      <td>/a/abba/as+good+as+new_20003033.html</td>\n",
       "      <td>I'll never know why I had to go  \\nWhy I had t...</td>\n",
       "    </tr>\n",
       "    <tr>\n",
       "      <th>3</th>\n",
       "      <td>ABBA</td>\n",
       "      <td>Bang</td>\n",
       "      <td>/a/abba/bang_20598415.html</td>\n",
       "      <td>Making somebody happy is a question of give an...</td>\n",
       "    </tr>\n",
       "    <tr>\n",
       "      <th>4</th>\n",
       "      <td>ABBA</td>\n",
       "      <td>Bang-A-Boomerang</td>\n",
       "      <td>/a/abba/bang+a+boomerang_20002668.html</td>\n",
       "      <td>Making somebody happy is a question of give an...</td>\n",
       "    </tr>\n",
       "  </tbody>\n",
       "</table>\n",
       "</div>"
      ],
      "text/plain": [
       "  artist                   song                                        link  \\\n",
       "0   ABBA  Ahe's My Kind Of Girl  /a/abba/ahes+my+kind+of+girl_20598417.html   \n",
       "1   ABBA       Andante, Andante       /a/abba/andante+andante_20002708.html   \n",
       "2   ABBA         As Good As New        /a/abba/as+good+as+new_20003033.html   \n",
       "3   ABBA                   Bang                  /a/abba/bang_20598415.html   \n",
       "4   ABBA       Bang-A-Boomerang      /a/abba/bang+a+boomerang_20002668.html   \n",
       "\n",
       "                                                text  \n",
       "0  Look at her face, it's a wonderful face  \\nAnd...  \n",
       "1  Take it easy with me, please  \\nTouch me gentl...  \n",
       "2  I'll never know why I had to go  \\nWhy I had t...  \n",
       "3  Making somebody happy is a question of give an...  \n",
       "4  Making somebody happy is a question of give an...  "
      ]
     },
     "execution_count": 44,
     "metadata": {},
     "output_type": "execute_result"
    }
   ],
   "source": [
    "df=pd.read_csv('songdata.csv')\n",
    "df.head(5)"
   ]
  },
  {
   "cell_type": "code",
   "execution_count": 3,
   "id": "2cf92c6b",
   "metadata": {},
   "outputs": [],
   "source": [
    "# reduce the size of sample data to 5000 rows and pefrom operation column wise\n",
    "df = df.sample(n=5000).drop('link', axis=1).reset_index(drop=True)"
   ]
  },
  {
   "cell_type": "code",
   "execution_count": 5,
   "id": "3bafd571",
   "metadata": {},
   "outputs": [
    {
     "data": {
      "text/plain": [
       "'I Was Only Kidding'"
      ]
     },
     "execution_count": 5,
     "metadata": {},
     "output_type": "execute_result"
    }
   ],
   "source": [
    "df['song'][0]"
   ]
  },
  {
   "cell_type": "code",
   "execution_count": 6,
   "id": "82b395cb",
   "metadata": {},
   "outputs": [
    {
     "data": {
      "text/plain": [
       "\"When I said that I'd be faithful  \\nWhen I promised I'd be true  \\nWhen I swore that I could never  \\nBe with anyone but you  \\nWhen I told you that I loved you  \\nWith those tender words I spoke  \\nI was only kidding  \\nNow, can't you take a joke?  \\n  \\nWhen I said that I need you, baby  \\nWhen I told you that I really care  \\nWhen I said that I can't live without you  \\nWhen I said I'd follow you anywhere  \\nWhen I said you could always trust me  \\nWhen I said I'd never leave you flat  \\nWell, guess what? I was only kidding, baby  \\nI can't believe you fell for that! You're so gullible  \\n  \\n(I was only kidding) I was only kidding  \\n(I was only kidding) You thought that was for real?  \\nI was only kidding  \\nNow I'm sorry if you misunderstood, but the fact remains  \\n(I was only kidding) I was only kidding  \\n(I was only kidding) Baby, baby, I was  \\n(I was) only kidding  \\nWell, I guess I got you pretty good, now listen  \\n  \\nWhen I said that I love you, baby  \\nFrom the very bottom of my heart  \\nWhen I said that I miss you so badly  \\nEvery second we're apart  \\nWhen I swore that you're just getting more and more  \\nBeautiful every day  \\nWell, I was only kidding, honey  \\nWhat's the matter with you anyway? Let me tell you something  \\n  \\n(I was only kidding) I was only kidding  \\n(I was only kidding) You understand, don't ya?  \\nI was only kidding  \\nWell, I guess it probably hurts you a lot, but you gotta know  \\n(I was only kidding) I was only kidding  \\n(I was only kidding) Come on now, get a clue  \\nI was only kidding  \\nI really love you, not!  \\n  \\nWhen I said you ought a marry  \\nWhen I said that we should settle down  \\nWell, I was pullin' your leg there, honey  \\nI was just foolin' around  \\nYou see, I, I never meant to upset you, darlin'  \\nI never meant to hurt anyone  \\nI was only kidding, baby  \\nWhy don't you just put down that gun?  \\nLet's talk this over  \\n  \\n(I was only kidding) I was only kidding  \\n(I was only kidding) Watch where you're pointing that thing  \\n(I was only kidding)  \\nHey, I'm sorry if your heart is broke, you gotta realize  \\n(I was only kidding) I was only kidding  \\n(I was only kidding) Aw, yeah  \\nI was only kidding  \\nNow, honey, can't you take a joke?  \\n(I was only kidding) I was only kidding  \\n(I was only kidding) I was only kidding  \\n(I was only kidding) I was only kidding  \\n(I was only kidding) I was only kidding  \\n(I was only kidding) I didn't lie to you  \\nI was only kidding... Yes indeed  \\n(I was only kidding) Baby, baby, you know  \\n(I was only kidding) Hey!\\n\\n\""
      ]
     },
     "execution_count": 6,
     "metadata": {},
     "output_type": "execute_result"
    }
   ],
   "source": [
    "#before cleaning data\n",
    "df['text'][0]"
   ]
  },
  {
   "cell_type": "code",
   "execution_count": 7,
   "id": "5b544f78",
   "metadata": {},
   "outputs": [],
   "source": [
    "# Removing special characters and convert upper case letter to Lower case letter\n",
    "df['text'] = df['text'].str.lower().replace(r'[^\\w\\s]','').replace(r'\\n',' ', regex=True)"
   ]
  },
  {
   "cell_type": "code",
   "execution_count": 8,
   "id": "4aad1ca4",
   "metadata": {},
   "outputs": [
    {
     "data": {
      "text/plain": [
       "\"when i said that i'd be faithful   when i promised i'd be true   when i swore that i could never   be with anyone but you   when i told you that i loved you   with those tender words i spoke   i was only kidding   now, can't you take a joke?      when i said that i need you, baby   when i told you that i really care   when i said that i can't live without you   when i said i'd follow you anywhere   when i said you could always trust me   when i said i'd never leave you flat   well, guess what? i was only kidding, baby   i can't believe you fell for that! you're so gullible      (i was only kidding) i was only kidding   (i was only kidding) you thought that was for real?   i was only kidding   now i'm sorry if you misunderstood, but the fact remains   (i was only kidding) i was only kidding   (i was only kidding) baby, baby, i was   (i was) only kidding   well, i guess i got you pretty good, now listen      when i said that i love you, baby   from the very bottom of my heart   when i said that i miss you so badly   every second we're apart   when i swore that you're just getting more and more   beautiful every day   well, i was only kidding, honey   what's the matter with you anyway? let me tell you something      (i was only kidding) i was only kidding   (i was only kidding) you understand, don't ya?   i was only kidding   well, i guess it probably hurts you a lot, but you gotta know   (i was only kidding) i was only kidding   (i was only kidding) come on now, get a clue   i was only kidding   i really love you, not!      when i said you ought a marry   when i said that we should settle down   well, i was pullin' your leg there, honey   i was just foolin' around   you see, i, i never meant to upset you, darlin'   i never meant to hurt anyone   i was only kidding, baby   why don't you just put down that gun?   let's talk this over      (i was only kidding) i was only kidding   (i was only kidding) watch where you're pointing that thing   (i was only kidding)   hey, i'm sorry if your heart is broke, you gotta realize   (i was only kidding) i was only kidding   (i was only kidding) aw, yeah   i was only kidding   now, honey, can't you take a joke?   (i was only kidding) i was only kidding   (i was only kidding) i was only kidding   (i was only kidding) i was only kidding   (i was only kidding) i was only kidding   (i was only kidding) i didn't lie to you   i was only kidding... yes indeed   (i was only kidding) baby, baby, you know   (i was only kidding) hey!  \""
      ]
     },
     "execution_count": 8,
     "metadata": {},
     "output_type": "execute_result"
    }
   ],
   "source": [
    "# After Cleaning Data \n",
    "# Show Data again\n",
    "df['text'][0]"
   ]
  },
  {
   "cell_type": "code",
   "execution_count": 17,
   "id": "b98ca807",
   "metadata": {},
   "outputs": [
    {
     "name": "stderr",
     "output_type": "stream",
     "text": [
      "[nltk_data] Downloading package punkt to\n",
      "[nltk_data]     C:\\Users\\HP\\AppData\\Roaming\\nltk_data...\n",
      "[nltk_data]   Package punkt is already up-to-date!\n"
     ]
    }
   ],
   "source": [
    "import nltk\n",
    "from nltk.stem.porter import PorterStemmer\n",
    "\n",
    "ps = PorterStemmer()\n",
    "\n",
    "def tokenization(txt):\n",
    "    tokens = nltk.word_tokenize(txt)\n",
    "    stemming = [ps.stem(w) for w in tokens]\n",
    "    return \" \".join(stemming)\n",
    "\n",
    "# Download the 'punkt' resource\n",
    "nltk.download('punkt')\n",
    "\n",
    "# Apply tokenization function to 'text' column in DataFrame\n",
    "df['text'] = df['text'].apply(lambda x: tokenization(x))\n"
   ]
  },
  {
   "cell_type": "code",
   "execution_count": 18,
   "id": "d6ffc29a",
   "metadata": {},
   "outputs": [
    {
     "data": {
      "text/plain": [
       "0       when i said that i 'd be faith when i promis i...\n",
       "1       everybodi want me to be their angel everybodi ...\n",
       "2       i saw it again thi even black sail in a pale y...\n",
       "3       the first time i met her she walk right up to ...\n",
       "4       funni a woman can come on so wild and free yet...\n",
       "                              ...                        \n",
       "4995    oh , he 's a rebel and you may not like hi loo...\n",
       "4996    i ? ll take your side and i ? ll take you into...\n",
       "4997    some day i bare miss you , some day i 'm almos...\n",
       "4998    i use to live in a poor neighborhood my friend...\n",
       "4999    peopl put me down , say that i 'm a fool but i...\n",
       "Name: text, Length: 5000, dtype: object"
      ]
     },
     "execution_count": 18,
     "metadata": {},
     "output_type": "execute_result"
    }
   ],
   "source": [
    "df['text']"
   ]
  },
  {
   "cell_type": "code",
   "execution_count": 19,
   "id": "d3a3bf32",
   "metadata": {},
   "outputs": [],
   "source": [
    "# cosine similarity and Tfid vectarizer\n",
    "from sklearn.feature_extraction.text import TfidfVectorizer\n",
    "from sklearn.metrics.pairwise import cosine_similarity"
   ]
  },
  {
   "cell_type": "code",
   "execution_count": 20,
   "id": "cb1e2694",
   "metadata": {},
   "outputs": [],
   "source": [
    "tfidvector = TfidfVectorizer(analyzer='word',stop_words='english') #remove useless words which have no meaning\n",
    "matrix = tfidvector.fit_transform(df['text'])\n",
    "similarity = cosine_similarity(matrix)"
   ]
  },
  {
   "cell_type": "code",
   "execution_count": 22,
   "id": "47ad4480",
   "metadata": {
    "scrolled": true
   },
   "outputs": [
    {
     "data": {
      "text/plain": [
       "array([[1.        , 0.0086396 , 0.05542403, ..., 0.03607026, 0.04458847,\n",
       "        0.04587777],\n",
       "       [0.0086396 , 1.        , 0.0141096 , ..., 0.01631429, 0.00618748,\n",
       "        0.00899865],\n",
       "       [0.05542403, 0.0141096 , 1.        , ..., 0.03885668, 0.01610205,\n",
       "        0.01383264],\n",
       "       ...,\n",
       "       [0.03607026, 0.01631429, 0.03885668, ..., 1.        , 0.03773367,\n",
       "        0.0608834 ],\n",
       "       [0.04458847, 0.00618748, 0.01610205, ..., 0.03773367, 1.        ,\n",
       "        0.00894855],\n",
       "       [0.04587777, 0.00899865, 0.01383264, ..., 0.0608834 , 0.00894855,\n",
       "        1.        ]])"
      ]
     },
     "execution_count": 22,
     "metadata": {},
     "output_type": "execute_result"
    }
   ],
   "source": [
    "# show similarity\n",
    "similarity"
   ]
  },
  {
   "cell_type": "code",
   "execution_count": 27,
   "id": "c62ecbd4",
   "metadata": {},
   "outputs": [],
   "source": [
    "# creating recommendation fumction"
   ]
  },
  {
   "cell_type": "code",
   "execution_count": 42,
   "id": "c8b7dfc8",
   "metadata": {},
   "outputs": [],
   "source": [
    "# list(enumerate(similarity[idx]) this create a list of index we sort this because the most similar song come together "
   ]
  },
  {
   "cell_type": "code",
   "execution_count": 43,
   "id": "f694fb14",
   "metadata": {},
   "outputs": [],
   "source": [
    "# key=lambda x:x[1] means it start from 1st index  "
   ]
  },
  {
   "cell_type": "code",
   "execution_count": 51,
   "id": "863fbab1",
   "metadata": {},
   "outputs": [],
   "source": [
    "def recommendation(song_df):\n",
    "    matches= df[df['song'] == song_df]\n",
    "    if matches.empty:\n",
    "        print(f\"No matches found for '{song}'.\")\n",
    "        return []\n",
    "    idx=matches.index[0]\n",
    "    distances = sorted(list(enumerate(similarity[idx])),reverse=True,key=lambda x:x[1])\n",
    "    \n",
    "    songs = []\n",
    "    for m_id in distances[1:21]:\n",
    "        songs.append(df.iloc[m_id[0]].song)\n",
    "        \n",
    "    return songs"
   ]
  },
  {
   "cell_type": "code",
   "execution_count": 52,
   "id": "a8e7dd0a",
   "metadata": {},
   "outputs": [],
   "source": [
    "# calling recommendation function"
   ]
  },
  {
   "cell_type": "code",
   "execution_count": 54,
   "id": "9d123434",
   "metadata": {},
   "outputs": [
    {
     "data": {
      "text/plain": [
       "['Heartbreak Station',\n",
       " \"He's A Rebel\",\n",
       " 'Save Me From Myself',\n",
       " 'Too Much Pride',\n",
       " 'Bang A Drum',\n",
       " 'Amazing Grace',\n",
       " 'I Know You Better Than You Think',\n",
       " 'Sweet Georgia Brown',\n",
       " \"Say What's Real\",\n",
       " 'All That Jazz',\n",
       " 'All You Need Is Elves',\n",
       " 'Changing Horses',\n",
       " 'A Pair Of Brown Eyes',\n",
       " 'Goodbye Time',\n",
       " 'The Final Spark',\n",
       " 'St. John',\n",
       " 'If You Leave Me Now',\n",
       " \"It's Coming Down\",\n",
       " 'Belles Of Paris',\n",
       " 'Animal']"
      ]
     },
     "execution_count": 54,
     "metadata": {},
     "output_type": "execute_result"
    }
   ],
   "source": [
    "recommendation('Zero Landmine')"
   ]
  },
  {
   "cell_type": "code",
   "execution_count": 55,
   "id": "552988f3",
   "metadata": {},
   "outputs": [],
   "source": [
    "import pickle\n",
    "pickle.dump(similarity,open('similarity.pkl','wb'))\n",
    "pickle.dump(df,open('df.pkl','wb'))"
   ]
  },
  {
   "cell_type": "code",
   "execution_count": null,
   "id": "d74f83d2",
   "metadata": {},
   "outputs": [],
   "source": []
  }
 ],
 "metadata": {
  "kernelspec": {
   "display_name": "Python 3 (ipykernel)",
   "language": "python",
   "name": "python3"
  },
  "language_info": {
   "codemirror_mode": {
    "name": "ipython",
    "version": 3
   },
   "file_extension": ".py",
   "mimetype": "text/x-python",
   "name": "python",
   "nbconvert_exporter": "python",
   "pygments_lexer": "ipython3",
   "version": "3.10.9"
  }
 },
 "nbformat": 4,
 "nbformat_minor": 5
}
